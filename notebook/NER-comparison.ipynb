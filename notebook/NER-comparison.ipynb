{
 "cells": [
  {
   "cell_type": "code",
   "execution_count": 14,
   "metadata": {},
   "outputs": [
    {
     "ename": "ImportError",
     "evalue": "cannot import name 'extract_and_display_organizations' from 'comparison' (c:\\Users\\PabloFabianFaundezGa\\Desktop\\pf\\semantic-search-basics\\scripts\\comparison.py)",
     "output_type": "error",
     "traceback": [
      "\u001b[1;31m---------------------------------------------------------------------------\u001b[0m",
      "\u001b[1;31mImportError\u001b[0m                               Traceback (most recent call last)",
      "Cell \u001b[1;32mIn[14], line 10\u001b[0m\n\u001b[0;32m      8\u001b[0m \u001b[39mfrom\u001b[39;00m \u001b[39mfetch_article\u001b[39;00m \u001b[39mimport\u001b[39;00m fetch_article_from_url\n\u001b[0;32m      9\u001b[0m \u001b[39mfrom\u001b[39;00m \u001b[39mner_tools\u001b[39;00m \u001b[39mimport\u001b[39;00m load_ner_tools, apply_ner_tools\n\u001b[1;32m---> 10\u001b[0m \u001b[39mfrom\u001b[39;00m \u001b[39mcomparison\u001b[39;00m \u001b[39mimport\u001b[39;00m compare_ner_results, display_comparison, extract_and_display_organizations\n",
      "\u001b[1;31mImportError\u001b[0m: cannot import name 'extract_and_display_organizations' from 'comparison' (c:\\Users\\PabloFabianFaundezGa\\Desktop\\pf\\semantic-search-basics\\scripts\\comparison.py)"
     ]
    }
   ],
   "source": [
    "import sys\n",
    "import os\n",
    "\n",
    "# Add the parent directory of 'scripts' to sys.path\n",
    "sys.path.append(os.path.abspath(\"../scripts\"))\n",
    "\n",
    "# Import modules\n",
    "from fetch_article import fetch_article_from_url\n",
    "from ner_tools import load_ner_tools, apply_ner_tools\n",
    "from comparison import compare_ner_results, display_comparison, extract_and_display_organizations"
   ]
  },
  {
   "cell_type": "code",
   "execution_count": 7,
   "metadata": {},
   "outputs": [],
   "source": [
    "# Define URL and language\n",
    "url = \"https://www.dw.com/en/volkswagen-vw-banking-on-global-sales-to-stay-ahead-of-the-mobility-curve/a-71064923\"  # Replace with a valid URL\n",
    "language = \"en\"  # Change to \"en\" for English or other supported languages"
   ]
  },
  {
   "cell_type": "code",
   "execution_count": 8,
   "metadata": {},
   "outputs": [
    {
     "name": "stdout",
     "output_type": "stream",
     "text": [
      "Fetching article...\n",
      "Article fetched successfully!\n"
     ]
    }
   ],
   "source": [
    "# Fetch article\n",
    "print(\"Fetching article...\")\n",
    "article_text = fetch_article_from_url(url)\n",
    "print(\"Article fetched successfully!\")"
   ]
  },
  {
   "cell_type": "code",
   "execution_count": 9,
   "metadata": {},
   "outputs": [
    {
     "name": "stdout",
     "output_type": "stream",
     "text": [
      "Loading NER tools...\n"
     ]
    },
    {
     "name": "stderr",
     "output_type": "stream",
     "text": [
      "Some weights of the model checkpoint at dbmdz/bert-large-cased-finetuned-conll03-english were not used when initializing BertForTokenClassification: ['bert.pooler.dense.weight', 'bert.pooler.dense.bias']\n",
      "- This IS expected if you are initializing BertForTokenClassification from the checkpoint of a model trained on another task or with another architecture (e.g. initializing a BertForSequenceClassification model from a BertForPreTraining model).\n",
      "- This IS NOT expected if you are initializing BertForTokenClassification from the checkpoint of a model that you expect to be exactly identical (initializing a BertForSequenceClassification model from a BertForSequenceClassification model).\n"
     ]
    },
    {
     "name": "stdout",
     "output_type": "stream",
     "text": [
      "NER tools loaded!\n"
     ]
    }
   ],
   "source": [
    "# Load NER tools\n",
    "print(\"Loading NER tools...\")\n",
    "tools = load_ner_tools(language=language)\n",
    "print(\"NER tools loaded!\")"
   ]
  },
  {
   "cell_type": "code",
   "execution_count": 10,
   "metadata": {},
   "outputs": [
    {
     "name": "stdout",
     "output_type": "stream",
     "text": [
      "Applying NER tools...\n"
     ]
    }
   ],
   "source": [
    "# Apply NER tools\n",
    "print(\"Applying NER tools...\")\n",
    "ner_results = apply_ner_tools(article_text, tools)"
   ]
  },
  {
   "cell_type": "code",
   "execution_count": 11,
   "metadata": {},
   "outputs": [
    {
     "name": "stdout",
     "output_type": "stream",
     "text": [
      "Comparing results...\n"
     ]
    }
   ],
   "source": [
    "# Compare results\n",
    "print(\"Comparing results...\")\n",
    "comparison = compare_ner_results(article_text, ner_results)"
   ]
  },
  {
   "cell_type": "code",
   "execution_count": 12,
   "metadata": {},
   "outputs": [
    {
     "name": "stdout",
     "output_type": "stream",
     "text": [
      "Results:\n",
      "Word                          spaCy                         Hugging Face (BERT)           \n",
      "==========================================================================================\n",
      "Germanness                    ORG                           N/A                           \n",
      "China                         GPE                           I-LOC                         \n",
      "Brazil                        GPE                           I-LOC                         \n",
      "US                            GPE                           I-LOC                         \n",
      "Volkswagen                    ORG                           I-ORG                         \n",
      "VW                            ORG                           N/A                           \n",
      "Germanwith                    PERSON                        N/A                           \n",
      "Beetle                        GPE                           N/A                           \n",
      "Golf                          GPE                           I-MISC                        \n",
      "Polo                          PERSON                        I-MISC                        \n",
      "17 million                    CARDINAL                      N/A                           \n",
      "a year                        DATE                          N/A                           \n",
      "VWs                           PERSON                        N/A                           \n",
      "Chinese                       NORP                          I-MISC                        \n",
      "Last year                     DATE                          N/A                           \n",
      "12                            CARDINAL                      N/A                           \n",
      "Volkswagen Group              ORG                           N/A                           \n",
      "4.80 million                  CARDINAL                      N/A                           \n",
      "1.4%                          PERCENT                       N/A                           \n",
      "2023                          DATE                          N/A                           \n",
      "nearly 37%                    PERCENT                       N/A                           \n",
      "€1.34 billion                 MONEY                         N/A                           \n",
      "the first three quarters of 2024DATE                          N/A                           \n",
      "€2.12 billion                 MONEY                         N/A                           \n",
      "Germany                       GPE                           I-LOC                         \n",
      "Russian                       NORP                          I-MISC                        \n",
      "the Ukraine war               EVENT                         N/A                           \n",
      "German                        NORP                          I-MISC                        \n",
      "Donald Trump's                PERSON                        N/A                           \n",
      "the White House               ORG                           N/A                           \n",
      "December 20                   DATE                          N/A                           \n",
      "35,000                        CARDINAL                      N/A                           \n",
      "the coming years              DATE                          N/A                           \n",
      "Volkswagens                   GPE                           N/A                           \n",
      "JavaScript                    PRODUCT                       N/A                           \n",
      "HTML5                         PERSON                        N/A                           \n",
      "76,000                        CARDINAL                      N/A                           \n",
      "63,000                        CARDINAL                      N/A                           \n",
      "Poland                        GPE                           I-LOC                         \n",
      "Spain                         GPE                           I-LOC                         \n",
      "Portugal                      GPE                           I-LOC                         \n",
      "Slovakia                      ORG                           I-LOC                         \n",
      "Russia                        GPE                           I-LOC                         \n",
      "2022                          DATE                          N/A                           \n",
      "Ukraine                       GPE                           I-LOC                         \n",
      "A year later                  DATE                          N/A                           \n",
      "European                      NORP                          N/A                           \n",
      "Mexico                        GPE                           N/A                           \n",
      "theUnited States              GPE                           N/A                           \n",
      "India                         GPE                           N/A                           \n",
      "South Africa                  GPE                           N/A                           \n",
      "Europe                        LOC                           N/A                           \n",
      "first                         ORDINAL                       N/A                           \n",
      "seven decades ago             DATE                          N/A                           \n",
      "Today                         DATE                          N/A                           \n",
      "25                            CARDINAL                      N/A                           \n",
      "South America                 LOC                           N/A                           \n",
      "8%                            PERCENT                       N/A                           \n",
      "Brazilian                     NORP                          N/A                           \n",
      "North America                 LOC                           N/A                           \n",
      "just over 10%                 PERCENT                       N/A                           \n",
      "Tennessee                     GPE                           N/A                           \n",
      "Donald Trump                  PERSON                        N/A                           \n",
      "American                      NORP                          N/A                           \n",
      "America                       GPE                           N/A                           \n",
      "the United States             GPE                           N/A                           \n",
      "years                         DATE                          N/A                           \n",
      "the past decade               DATE                          N/A                           \n",
      "2019                          DATE                          N/A                           \n",
      "19%                           PERCENT                       N/A                           \n",
      "a third                       CARDINAL                      N/A                           \n",
      "14%                           PERCENT                       N/A                           \n",
      "Canada                        GPE                           N/A                           \n",
      "EU                            ORG                           N/A                           \n",
      "hitChinese EVs                ORG                           N/A                           \n",
      "Uwe Hessler                   ORG                           N/A                           \n",
      "V                             N/A                           I-ORG                         \n",
      "W                             N/A                           I-ORG                         \n",
      "Bee                           N/A                           I-MISC                        \n",
      "tle                           N/A                           I-MISC                        \n",
      "Bus                           N/A                           I-MISC                        \n",
      "E                             N/A                           I-LOC                         \n",
      "uro                           N/A                           I-MISC                        \n",
      "pe                            N/A                           I-LOC                         \n",
      "Group                         N/A                           I-ORG                         \n",
      "Donald                        N/A                           I-PER                         \n",
      "Trump                         N/A                           I-PER                         \n",
      "White                         N/A                           I-LOC                         \n",
      "House                         N/A                           I-LOC                         \n",
      "Java                          N/A                           I-MISC                        \n"
     ]
    }
   ],
   "source": [
    "# Display results\n",
    "print(\"Results:\")\n",
    "display_comparison(comparison)"
   ]
  },
  {
   "cell_type": "code",
   "execution_count": 13,
   "metadata": {},
   "outputs": [
    {
     "name": "stdout",
     "output_type": "stream",
     "text": [
      "\n",
      "Organizations identified:\n"
     ]
    },
    {
     "ename": "NameError",
     "evalue": "name 'extract_and_display_organizations' is not defined",
     "output_type": "error",
     "traceback": [
      "\u001b[1;31m---------------------------------------------------------------------------\u001b[0m",
      "\u001b[1;31mNameError\u001b[0m                                 Traceback (most recent call last)",
      "Cell \u001b[1;32mIn[13], line 3\u001b[0m\n\u001b[0;32m      1\u001b[0m \u001b[39m# Display tokens identified as organizations\u001b[39;00m\n\u001b[0;32m      2\u001b[0m \u001b[39mprint\u001b[39m(\u001b[39m\"\u001b[39m\u001b[39m\\n\u001b[39;00m\u001b[39mOrganizations identified:\u001b[39m\u001b[39m\"\u001b[39m)\n\u001b[1;32m----> 3\u001b[0m organizations \u001b[39m=\u001b[39m extract_and_display_organizations(comparison)\n",
      "\u001b[1;31mNameError\u001b[0m: name 'extract_and_display_organizations' is not defined"
     ]
    }
   ],
   "source": [
    "# Display tokens identified as organizations\n",
    "print(\"\\nOrganizations identified:\")\n",
    "organizations = extract_and_display_organizations(comparison)"
   ]
  },
  {
   "cell_type": "code",
   "execution_count": null,
   "metadata": {},
   "outputs": [],
   "source": []
  }
 ],
 "metadata": {
  "kernelspec": {
   "display_name": "Python 3.11.0 64-bit",
   "language": "python",
   "name": "python3"
  },
  "language_info": {
   "codemirror_mode": {
    "name": "ipython",
    "version": 3
   },
   "file_extension": ".py",
   "mimetype": "text/x-python",
   "name": "python",
   "nbconvert_exporter": "python",
   "pygments_lexer": "ipython3",
   "version": "3.11.0"
  },
  "orig_nbformat": 4,
  "vscode": {
   "interpreter": {
    "hash": "5238573367df39f7286bb46f9ff5f08f63a01a80960060ce41e3c79b190280fa"
   }
  }
 },
 "nbformat": 4,
 "nbformat_minor": 2
}
