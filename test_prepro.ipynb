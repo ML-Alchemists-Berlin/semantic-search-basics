{
 "cells": [
  {
   "cell_type": "code",
   "execution_count": 1,
   "metadata": {},
   "outputs": [],
   "source": [
    "import pandas as pd\n",
    "import spacy\n",
    "import sys\n"
   ]
  },
  {
   "cell_type": "code",
   "execution_count": 5,
   "metadata": {},
   "outputs": [
    {
     "name": "stdout",
     "output_type": "stream",
     "text": [
      "Cleaning data...\n",
      "Cleaned file saved at: data/processed/sentences_cleaned.csv\n"
     ]
    }
   ],
   "source": [
    "from sentence_prepro import clean_text"
   ]
  },
  {
   "cell_type": "code",
   "execution_count": 6,
   "metadata": {},
   "outputs": [],
   "source": [
    "# Load spaCy model\n",
    "nlp = spacy.load(\"de_core_news_sm\")"
   ]
  },
  {
   "cell_type": "code",
   "execution_count": 7,
   "metadata": {},
   "outputs": [],
   "source": [
    "# Sample sentences to test\n",
    "sample_sentences = [\n",
    "    \"Das ist ein einfacher Satz!\",\n",
    "    \"2023 wurde ein neues Gesetz verabschiedet.\",\n",
    "    \"Hallo, wie geht's dir?\",\n",
    "    \"Er hat 10 Äpfel gekauft, aber 3 gegessen...\"\n",
    "]"
   ]
  },
  {
   "cell_type": "code",
   "execution_count": 8,
   "metadata": {},
   "outputs": [
    {
     "data": {
      "text/html": [
       "<div>\n",
       "<style scoped>\n",
       "    .dataframe tbody tr th:only-of-type {\n",
       "        vertical-align: middle;\n",
       "    }\n",
       "\n",
       "    .dataframe tbody tr th {\n",
       "        vertical-align: top;\n",
       "    }\n",
       "\n",
       "    .dataframe thead th {\n",
       "        text-align: right;\n",
       "    }\n",
       "</style>\n",
       "<table border=\"1\" class=\"dataframe\">\n",
       "  <thead>\n",
       "    <tr style=\"text-align: right;\">\n",
       "      <th></th>\n",
       "      <th>Original Sentence</th>\n",
       "      <th>Cleaned Sentence</th>\n",
       "    </tr>\n",
       "  </thead>\n",
       "  <tbody>\n",
       "    <tr>\n",
       "      <th>0</th>\n",
       "      <td>Das ist ein einfacher Satz!</td>\n",
       "      <td>einfach Satz</td>\n",
       "    </tr>\n",
       "    <tr>\n",
       "      <th>1</th>\n",
       "      <td>2023 wurde ein neues Gesetz verabschiedet.</td>\n",
       "      <td>2023 neu Gesetz verabschieden</td>\n",
       "    </tr>\n",
       "    <tr>\n",
       "      <th>2</th>\n",
       "      <td>Hallo, wie geht's dir?</td>\n",
       "      <td>Hallo gehts</td>\n",
       "    </tr>\n",
       "    <tr>\n",
       "      <th>3</th>\n",
       "      <td>Er hat 10 Äpfel gekauft, aber 3 gegessen...</td>\n",
       "      <td>10 äpfel kaufen 3 gegessen</td>\n",
       "    </tr>\n",
       "  </tbody>\n",
       "</table>\n",
       "</div>"
      ],
      "text/plain": [
       "                             Original Sentence               Cleaned Sentence\n",
       "0                  Das ist ein einfacher Satz!                   einfach Satz\n",
       "1   2023 wurde ein neues Gesetz verabschiedet.  2023 neu Gesetz verabschieden\n",
       "2                       Hallo, wie geht's dir?                    Hallo gehts\n",
       "3  Er hat 10 Äpfel gekauft, aber 3 gegessen...     10 äpfel kaufen 3 gegessen"
      ]
     },
     "metadata": {},
     "output_type": "display_data"
    }
   ],
   "source": [
    "# Apply the clean_text function to each sentence\n",
    "test_results = {sentence: clean_text(sentence) for sentence in sample_sentences}\n",
    "\n",
    "# Convert results to a DataFrame and display\n",
    "results_df = pd.DataFrame(test_results.items(), columns=[\"Original Sentence\", \"Cleaned Sentence\"])\n",
    "\n",
    "# Save results for further analysis\n",
    "results_df.to_csv(\"data/processed/test_clean_text.csv\", index=False)\n",
    "\n",
    "# Show the results\n",
    "display(results_df)"
   ]
  },
  {
   "cell_type": "code",
   "execution_count": null,
   "metadata": {},
   "outputs": [],
   "source": []
  }
 ],
 "metadata": {
  "kernelspec": {
   "display_name": "Python 3.11.0 64-bit",
   "language": "python",
   "name": "python3"
  },
  "language_info": {
   "codemirror_mode": {
    "name": "ipython",
    "version": 3
   },
   "file_extension": ".py",
   "mimetype": "text/x-python",
   "name": "python",
   "nbconvert_exporter": "python",
   "pygments_lexer": "ipython3",
   "version": "3.11.0"
  },
  "orig_nbformat": 4,
  "vscode": {
   "interpreter": {
    "hash": "5238573367df39f7286bb46f9ff5f08f63a01a80960060ce41e3c79b190280fa"
   }
  }
 },
 "nbformat": 4,
 "nbformat_minor": 2
}
